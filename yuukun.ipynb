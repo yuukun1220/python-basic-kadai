{
  "nbformat": 4,
  "nbformat_minor": 0,
  "metadata": {
    "colab": {
      "provenance": []
    },
    "kernelspec": {
      "name": "python3",
      "display_name": "Python 3"
    },
    "language_info": {
      "name": "python"
    }
  },
  "cells": [
    {
      "cell_type": "code",
      "source": [
        "# 台形の面積を求めるプログラム\n",
        "\n",
        "# 上辺、下辺、高さの入力\n",
        "upper_base = 10  # cm\n",
        "lower_base = 20  # cm\n",
        "height = 5  # cm\n",
        "\n",
        "# 公式：台形の面積 =（上辺＋下辺）× 高さ ÷ 2\n",
        "area = (upper_base + lower_base) * height / 2\n",
        "\n",
        "# 結果の出力\n",
        "print(\"台形の面積:\", area, \"cm^2\")\n",
        "print(\"台形の面積: \" + str(area) + \" cm^2\")"
      ],
      "metadata": {
        "colab": {
          "base_uri": "https://localhost:8080/"
        },
        "id": "_1OYP1w4K5nY",
        "outputId": "36884448-d580-42bc-aff0-13272d7b7b87"
      },
      "execution_count": 1,
      "outputs": [
        {
          "output_type": "stream",
          "name": "stdout",
          "text": [
            "台形の面積: 75.0 cm^2\n",
            "台形の面積: 75.0 cm^2\n"
          ]
        }
      ]
    }
  ]
}