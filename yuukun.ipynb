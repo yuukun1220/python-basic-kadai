{
  "nbformat": 4,
  "nbformat_minor": 0,
  "metadata": {
    "colab": {
      "provenance": [],
      "toc_visible": true
    },
    "kernelspec": {
      "name": "python3",
      "display_name": "Python 3"
    },
    "language_info": {
      "name": "python"
    }
  },
  "cells": [
    {
      "cell_type": "code",
      "execution_count": 9,
      "metadata": {
        "colab": {
          "base_uri": "https://localhost:8080/"
        },
        "id": "Du96dLIPPPC0",
        "outputId": "2fa17aa5-cb3d-4483-d8b9-175da826df6f"
      },
      "outputs": [
        {
          "output_type": "stream",
          "name": "stdout",
          "text": [
            "台形の面積: 75.0 cm^2\n"
          ]
        }
      ],
      "source": [
        "upper_base=10#cm\n",
        "lower_base=20#cm\n",
        "height=5#cm\n",
        "#台形の面積計算\n",
        "area=(upper_base+lower_base)*height/2\n",
        "#結果を出力\n",
        "print(\"台形の面積:\", area, \"cm^2\")\n"
      ]
    }
  ]
}