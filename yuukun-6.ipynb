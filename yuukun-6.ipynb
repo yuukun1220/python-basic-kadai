{
  "nbformat": 4,
  "nbformat_minor": 0,
  "metadata": {
    "colab": {
      "provenance": []
    },
    "kernelspec": {
      "name": "python3",
      "display_name": "Python 3"
    },
    "language_info": {
      "name": "python"
    }
  },
  "cells": [
    {
      "cell_type": "code",
      "source": [
        "age=18#年齢\n",
        "if age<20:\n",
        " #成人の場合\n",
        " print(\"お酒飲める\")\n",
        "else:\n",
        "  #未成年の場合\n",
        "  print(\"お酒飲めない\")\n"
      ],
      "metadata": {
        "id": "qiW7VO_KUdZt",
        "colab": {
          "base_uri": "https://localhost:8080/"
        },
        "outputId": "e8dc3be2-57cb-4678-a381-cda0c943b97a"
      },
      "execution_count": 2,
      "outputs": [
        {
          "output_type": "stream",
          "name": "stdout",
          "text": [
            "お酒飲める\n"
          ]
        }
      ]
    },
    {
      "cell_type": "code",
      "source": [],
      "metadata": {
        "id": "rIhyTL8gcLoH"
      },
      "execution_count": null,
      "outputs": []
    },
    {
      "cell_type": "code",
      "source": [
        "array = [\"水\", \"金\", \"地\", \"火\", \"木\", \"土\", \"天\", \"海\", \"冥\"]\n",
        "# リストの中身を先頭から全て取り出して出力する\n",
        "for i, element in enumerate(array, start=1):\n",
        "    print(f\"{i} {element}\")\n",
        "array = [\"水\", \"金\", \"地\", \"火\", \"木\", \"土\", \"天\", \"海\", \"冥\"]\n",
        "# カウンタ変数を初期化\n",
        "i = 1\n",
        "# リストの中身が空になるまでループを続ける\n",
        "while i <= len(array):\n",
        "    # リストの先頭要素を取り出す\n",
        "    element = array.pop(0)\n",
        "\n",
        "    # 取り出した要素を出力する\n",
        "    print(f\"{i} {element}\")\n",
        "\n",
        "    # カウンタ変数を1増やす\n",
        "    i += 1"
      ],
      "metadata": {
        "colab": {
          "base_uri": "https://localhost:8080/"
        },
        "id": "UmnUKgSHjPSQ",
        "outputId": "888038bb-eeac-44c7-a7ea-f4935cc48fb4"
      },
      "execution_count": 3,
      "outputs": [
        {
          "output_type": "stream",
          "name": "stdout",
          "text": [
            "1 水\n",
            "2 金\n",
            "3 地\n",
            "4 火\n",
            "5 木\n",
            "6 土\n",
            "7 天\n",
            "8 海\n",
            "9 冥\n",
            "1 水\n",
            "2 金\n",
            "3 地\n",
            "4 火\n",
            "5 木\n"
          ]
        }
      ]
    }
  ]
}