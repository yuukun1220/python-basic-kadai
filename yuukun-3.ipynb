{
  "nbformat": 4,
  "nbformat_minor": 0,
  "metadata": {
    "colab": {
      "provenance": []
    },
    "kernelspec": {
      "name": "python3",
      "display_name": "Python 3"
    },
    "language_info": {
      "name": "python"
    }
  },
  "cells": [
    {
      "cell_type": "code",
      "source": [
        "# リストの作成\n",
        "array = [\n",
        "    \"月曜日は晴れです\",\n",
        "    \"火曜日は雨です\",\n",
        "    \"水曜日は晴れです\",\n",
        "    \"木曜日は晴れです\",\n",
        "    \"金曜日は曇りです\",\n",
        "    \"土曜日は曇りのち雨です\",\n",
        "    \"日曜日は雷雨です\",\n",
        "]\n",
        "\n",
        "# ディクショナリの作成\n",
        "dictionary = {\n",
        "    \"mon\": \"晴れ\",\n",
        "    \"tue\": \"雨\",\n",
        "    \"wed\": \"晴れ\",\n",
        "    \"thu\": \"晴れ\",\n",
        "    \"fri\": \"曇り\",\n",
        "    \"sat\": \"曇りのち雨\",\n",
        "    \"sun\": \"雷雨\",\n",
        "}\n",
        "\n",
        "# リストからデータを取り出して出力\n",
        "for element in array:\n",
        "    print(element)\n",
        "\n",
        "# ディクショナリからデータを取り出して出力\n",
        "for key, value in dictionary.items():\n",
        "    print(f\"{key}は{value}です\")"
      ],
      "metadata": {
        "colab": {
          "base_uri": "https://localhost:8080/"
        },
        "id": "MrEGwY0Jfg2n",
        "outputId": "e5a8e6ed-ee36-4245-f505-794590dfb483"
      },
      "execution_count": 2,
      "outputs": [
        {
          "output_type": "stream",
          "name": "stdout",
          "text": [
            "月曜日は晴れです\n",
            "火曜日は雨です\n",
            "水曜日は晴れです\n",
            "木曜日は晴れです\n",
            "金曜日は曇りです\n",
            "土曜日は曇りのち雨です\n",
            "日曜日は雷雨です\n",
            "monは晴れです\n",
            "tueは雨です\n",
            "wedは晴れです\n",
            "thuは晴れです\n",
            "friは曇りです\n",
            "satは曇りのち雨です\n",
            "sunは雷雨です\n"
          ]
        }
      ]
    }
  ]
}