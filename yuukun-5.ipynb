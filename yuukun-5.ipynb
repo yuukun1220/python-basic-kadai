{
  "nbformat": 4,
  "nbformat_minor": 0,
  "metadata": {
    "colab": {
      "provenance": []
    },
    "kernelspec": {
      "name": "python3",
      "display_name": "Python 3"
    },
    "language_info": {
      "name": "python"
    }
  },
  "cells": [
    {
      "cell_type": "code",
      "source": [
        "var = 15\n",
        "\n",
        "# f文を用いて条件分岐処理と出力を行う\n",
        "output = f\"{'Fizz' if var % 3 == 0 else ''}{'Buzz' if var % 5 == 0 else ''}\"\n",
        "print(output if output else var)\n",
        "\n"
      ],
      "metadata": {
        "id": "qiW7VO_KUdZt"
      },
      "execution_count": null,
      "outputs": []
    }
  ]
}